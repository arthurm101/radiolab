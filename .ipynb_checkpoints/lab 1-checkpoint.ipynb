{
 "cells": [
  {
   "cell_type": "code",
   "execution_count": 2,
   "metadata": {
    "collapsed": false
   },
   "outputs": [
    {
     "name": "stdout",
     "output_type": "stream",
     "text": [
      "10\n"
     ]
    }
   ],
   "source": [
    "import numpy as np\n",
    "from matplotlib import pyplot\n",
    "from astropy import units as u, constants as c\n",
    "\n",
    "print(5+5)"
   ]
  },
  {
   "cell_type": "code",
   "execution_count": 9,
   "metadata": {
    "collapsed": false
   },
   "outputs": [
    {
     "ename": "SyntaxError",
     "evalue": "invalid syntax (<ipython-input-9-418139a96aa9>, line 9)",
     "output_type": "error",
     "traceback": [
      "\u001b[0;36m  File \u001b[0;32m\"<ipython-input-9-418139a96aa9>\"\u001b[0;36m, line \u001b[0;32m9\u001b[0m\n\u001b[0;31m    raw_data=np.loadtxt(¨lab_1.csv¨, delimiter=´,´,unppack=True, dtype=np.int16)\u001b[0m\n\u001b[0m                        ^\u001b[0m\n\u001b[0;31mSyntaxError\u001b[0m\u001b[0;31m:\u001b[0m invalid syntax\n"
     ]
    }
   ],
   "source": [
    "import ugradio\n",
    "divisor = 5\n",
    "sample_freq = (62.5/divisor)*u.Mhz\n",
    "dt = (1/sample_freq).to(u.ns)\n",
    "N_samples =1600\n",
    "times=np.arange(0,N_samples)*dt.to(u.us)\n",
    "scaling_factor=1.0/np.linfo(np.int16).max\n",
    "freqs_to_test=np.arange(.1,1.1,.1)*sample_freq\n",
    "raw_data=np.loadtxt(¨lab_1.csv¨, delimiter=´,´,unppack=True, dtype=np.int16)\n",
    "data=(((raw_data/(1.0*np.linfo(raw_data[0][0].dtype).max)))*u.V).to(u.mV)\n",
    "np.unique(raw_data[0])/256"
   ]
  },
  {
   "cell_type": "code",
   "execution_count": 10,
   "metadata": {
    "collapsed": false
   },
   "outputs": [
    {
     "ename": "NameError",
     "evalue": "name 'ugradio' is not defined",
     "output_type": "error",
     "traceback": [
      "\u001b[0;31m---------------------------------------------------------------------------\u001b[0m",
      "\u001b[0;31mNameError\u001b[0m                                 Traceback (most recent call last)",
      "\u001b[0;32m<ipython-input-10-36fd544703d0>\u001b[0m in \u001b[0;36m<module>\u001b[0;34m()\u001b[0m\n\u001b[0;32m----> 1\u001b[0;31m \u001b[0mdata1\u001b[0m \u001b[0;34m=\u001b[0m \u001b[0mugradio\u001b[0m\u001b[0;34m.\u001b[0m\u001b[0mpico\u001b[0m\u001b[0;34m.\u001b[0m\u001b[0mcapture_data\u001b[0m\u001b[0;34m(\u001b[0m\u001b[0;34m'500mV'\u001b[0m\u001b[0;34m,\u001b[0m \u001b[0mdivisor\u001b[0m \u001b[0;34m=\u001b[0m \u001b[0;36m5\u001b[0m\u001b[0;34m)\u001b[0m\u001b[0;34m\u001b[0m\u001b[0m\n\u001b[0m",
      "\u001b[0;31mNameError\u001b[0m: name 'ugradio' is not defined"
     ]
    }
   ],
   "source": [
    "data1 = ugradio.pico.capture_data('500mV', divisor = 5)"
   ]
  },
  {
   "cell_type": "code",
   "execution_count": null,
   "metadata": {
    "collapsed": true
   },
   "outputs": [],
   "source": []
  }
 ],
 "metadata": {
  "kernelspec": {
   "display_name": "Python 2",
   "language": "python",
   "name": "python2"
  },
  "language_info": {
   "codemirror_mode": {
    "name": "ipython",
    "version": 2
   },
   "file_extension": ".py",
   "mimetype": "text/x-python",
   "name": "python",
   "nbconvert_exporter": "python",
   "pygments_lexer": "ipython2",
   "version": "2.7.12"
  }
 },
 "nbformat": 4,
 "nbformat_minor": 1
}
